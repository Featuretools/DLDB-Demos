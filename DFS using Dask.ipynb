{
 "cells": [
  {
   "cell_type": "code",
   "execution_count": null,
   "metadata": {},
   "outputs": [],
   "source": [
    "import featuretools as ft\n",
    "import pandas as pd\n",
    "import numpy as np\n",
    "from dask import bag\n",
    "from dask.diagnostics import ProgressBar\n",
    "import utils_instacart as utils\n",
    "from sklearn.metrics import roc_auc_score\n",
    "from sklearn.model_selection import StratifiedKFold\n",
    "from dldb import DLDB, tdfs, make_temporal_cutoffs\n",
    "from keras.callbacks import EarlyStopping\n",
    "import os\n",
    "ft.__version__"
   ]
  },
  {
   "cell_type": "code",
   "execution_count": null,
   "metadata": {},
   "outputs": [],
   "source": [
    "pbar = ProgressBar()\n",
    "pbar.register()"
   ]
  },
  {
   "cell_type": "code",
   "execution_count": null,
   "metadata": {},
   "outputs": [],
   "source": [
    "path = \"partitioned_data/\"\n",
    "_, dirnames, _ = next(os.walk(path))\n",
    "dirnames = [path+d for d in dirnames]\n",
    "b = bag.from_sequence(dirnames)\n",
    "entity_sets = b.map(utils.load_entityset)"
   ]
  },
  {
   "cell_type": "code",
   "execution_count": null,
   "metadata": {},
   "outputs": [],
   "source": [
    "cutoff_time = pd.Timestamp('March 1, 2015')\n",
    "training_window = ft.Timedelta(\"60 days\")"
   ]
  },
  {
   "cell_type": "code",
   "execution_count": null,
   "metadata": {},
   "outputs": [],
   "source": [
    "label_times = entity_sets.map(utils.make_labels,\n",
    "                              product_name=\"Banana\",\n",
    "                              cutoff_time=cutoff_time,\n",
    "                              prediction_window=ft.Timedelta(\"4 weeks\"),\n",
    "                              training_window=training_window)"
   ]
  },
  {
   "cell_type": "code",
   "execution_count": null,
   "metadata": {},
   "outputs": [],
   "source": [
    "tdfs_results = entity_sets.map(tdfs,\n",
    "                               target_entity=\"users\",\n",
    "                               cutoffs=label_times,\n",
    "                               training_window=training_window,\n",
    "                               window_size='14d',\n",
    "                               num_windows=5,\n",
    "                               verbose=True)"
   ]
  },
  {
   "cell_type": "code",
   "execution_count": null,
   "metadata": {},
   "outputs": [],
   "source": [
    "label_times, tdfs_results = bag.compute(label_times, tdfs_results)\n",
    "\n",
    "labels = pd.concat(label_times).set_index('user_id').sort_index()['label']\n",
    "fm = pd.concat([r[0] for r in tdfs_results]).sort_index()\n",
    "fl = tdfs_results[0][1]"
   ]
  },
  {
   "cell_type": "code",
   "execution_count": null,
   "metadata": {},
   "outputs": [],
   "source": [
    "fm.to_csv(\"fm_full_data.csv\")\n",
    "labels.to_frame().to_csv(\"label_times_full_data.csv\")"
   ]
  },
  {
   "cell_type": "code",
   "execution_count": null,
   "metadata": {},
   "outputs": [],
   "source": [
    "dl_model = DLDB(\n",
    "    regression=False,\n",
    "    classes=[False, True],\n",
    "    recurrent_layer_sizes=(32, 32),\n",
    "    dense_layer_sizes=(32, 32),\n",
    "    dropout_fraction=0.2,\n",
    "    recurrent_dropout_fraction=0.1,\n",
    "    categorical_embedding_size=20,\n",
    "    categorical_max_vocab=12)\n",
    "# TODO: cheating a bit, put back in CV later\n",
    "dl_model.compile(fm, fl=fl)"
   ]
  },
  {
   "cell_type": "code",
   "execution_count": null,
   "metadata": {},
   "outputs": [],
   "source": [
    "cv_score = []\n",
    "n_splits = 3\n",
    "test_frac = 0.1\n",
    "# Use 10% of data as testing set, but only run 3 rounds of cross-validation\n",
    "# (because they take a while)\n",
    "splitter = StratifiedKFold(n_splits=int(1/test_frac), shuffle=True)\n",
    "\n",
    "for i, train_test_index in enumerate(splitter.split(labels, labels)):\n",
    "    train_labels = labels.iloc[train_test_index[0]]\n",
    "    test_labels = labels.iloc[train_test_index[1]]\n",
    "    train_fm = fm.loc[(train_labels.index, slice(None)), :]\n",
    "    test_fm = fm.loc[(test_labels.index, slice(None)), :]\n",
    "\n",
    "    dl_model.fit(\n",
    "        train_fm, train_labels,\n",
    "        validation_split=0.1,\n",
    "        epochs=100,\n",
    "        batch_size=32,\n",
    "        callbacks=[EarlyStopping()])\n",
    "    \n",
    "    predictions = dl_model.predict(test_fm)\n",
    "    cv_score.append(roc_auc_score(test_labels, predictions))\n",
    "    if i == n_splits - 1:\n",
    "        break\n",
    "mean_score = np.mean(cv_score)\n",
    "stderr = 2 * (np.std(cv_score) / np.sqrt(n_splits))\n",
    "\n",
    "print(\"AUC %.2f +/- %.2f\" % (mean_score, stderr))"
   ]
  },
  {
   "cell_type": "code",
   "execution_count": null,
   "metadata": {},
   "outputs": [],
   "source": []
  }
 ],
 "metadata": {
  "kernelspec": {
   "display_name": "Python 3",
   "language": "python",
   "name": "python3"
  },
  "language_info": {
   "codemirror_mode": {
    "name": "ipython",
    "version": 3
   },
   "file_extension": ".py",
   "mimetype": "text/x-python",
   "name": "python",
   "nbconvert_exporter": "python",
   "pygments_lexer": "ipython3",
   "version": "3.6.4"
  }
 },
 "nbformat": 4,
 "nbformat_minor": 2
}
